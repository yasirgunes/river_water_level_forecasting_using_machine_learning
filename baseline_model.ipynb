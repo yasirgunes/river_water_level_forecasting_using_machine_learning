{
  "cells": [
    {
      "cell_type": "code",
      "execution_count": 2,
      "metadata": {},
      "outputs": [
        {
          "name": "stdout",
          "output_type": "stream",
          "text": [
            " Horizon(day) MAE(m) RMSE(m)      R²\n",
            "            1 0.2993  0.5640  0.4527\n",
            "            2 0.4044  0.7136  0.1198\n",
            "            3 0.4547  0.7766 -0.0508\n",
            "            4 0.4863  0.8139 -0.1583\n",
            "            5 0.5094  0.8384 -0.2309\n",
            "            6 0.5131  0.8352 -0.2219\n",
            "            7 0.5192  0.8269 -0.1999\n"
          ]
        }
      ],
      "source": [
        "import pandas as pd\n",
        "import numpy as np\n",
        "from sklearn.metrics import mean_absolute_error, mean_squared_error, r2_score\n",
        "\n",
        "# ------------------------------------------------------------------\n",
        "# 1. Load data and pick the target column\n",
        "df = pd.read_csv(\"combined_dataset.csv\", parse_dates=[\"datetime\"])\n",
        "df.set_index(\"datetime\", inplace=True)\n",
        "stage = df[\"stage_m\"]\n",
        "\n",
        "# ------------------------------------------------------------------\n",
        "# 2. Define the split (same as your LSTM notebooks)\n",
        "train_end = pd.Timestamp(\"2018-04-21\")\n",
        "val_start = pd.Timestamp(\"2019-01-01\")\n",
        "\n",
        "val_series = stage.loc[val_start:]          # Validation period only\n",
        "\n",
        "# ------------------------------------------------------------------\n",
        "# 3. Compute persistence errors for horizons 1‒7 days\n",
        "results = []\n",
        "for h in range(1, 8):                       # 1-day … 7-day ahead\n",
        "    y_true = val_series.shift(-h).dropna()  # \"future\" values\n",
        "    \n",
        "    # Get the corresponding past values (h days before)\n",
        "    past_indices = y_true.index - pd.Timedelta(days=h)\n",
        "    \n",
        "    # Keep only indices that exist in val_series\n",
        "    valid_mask = past_indices.isin(val_series.index)\n",
        "    valid_indices = y_true.index[valid_mask]\n",
        "    \n",
        "    # Get the aligned true and predicted values\n",
        "    y_true_aligned = y_true.loc[valid_indices]\n",
        "    y_pred_aligned = val_series.loc[past_indices[valid_mask]]\n",
        "    \n",
        "    if len(y_true_aligned) > 0:\n",
        "        mae  = mean_absolute_error(y_true_aligned, y_pred_aligned)\n",
        "        rmse = np.sqrt(mean_squared_error(y_true_aligned, y_pred_aligned))\n",
        "        r2   = r2_score(y_true_aligned, y_pred_aligned)\n",
        "        results.append({\"Horizon(day)\": h, \"MAE(m)\": mae, \"RMSE(m)\": rmse, \"R²\": r2})\n",
        "\n",
        "baseline_df = pd.DataFrame(results)\n",
        "print(baseline_df.to_string(index=False, formatters={\n",
        "    \"MAE(m)\" : \"{:.4f}\".format,\n",
        "    \"RMSE(m)\": \"{:.4f}\".format,\n",
        "    \"R²\"     : \"{:.4f}\".format}))\n"
      ]
    },
    {
      "cell_type": "code",
      "execution_count": 3,
      "metadata": {},
      "outputs": [
        {
          "name": "stdout",
          "output_type": "stream",
          "text": [
            "Full dataset range: 1995-10-01 00:00:00 to 2025-06-18 00:00:00\n",
            "Validation series range: 2019-01-01 00:00:00 to 2025-06-18 00:00:00\n",
            "Number of validation samples: 2361\n"
          ]
        }
      ],
      "source": [
        "# Let's check the date range of our data\n",
        "print(f\"Full dataset range: {df.index.min()} to {df.index.max()}\")\n",
        "print(f\"Validation series range: {val_series.index.min()} to {val_series.index.max()}\")\n",
        "print(f\"Number of validation samples: {len(val_series)}\")\n"
      ]
    }
  ],
  "metadata": {
    "kernelspec": {
      "display_name": "venv",
      "language": "python",
      "name": "python3"
    },
    "language_info": {
      "codemirror_mode": {
        "name": "ipython",
        "version": 3
      },
      "file_extension": ".py",
      "mimetype": "text/x-python",
      "name": "python",
      "nbconvert_exporter": "python",
      "pygments_lexer": "ipython3",
      "version": "3.10.12"
    }
  },
  "nbformat": 4,
  "nbformat_minor": 2
}
